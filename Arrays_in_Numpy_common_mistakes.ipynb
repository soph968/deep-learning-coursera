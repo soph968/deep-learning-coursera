{
  "nbformat": 4,
  "nbformat_minor": 0,
  "metadata": {
    "colab": {
      "name": "Arrays in Numpy - common mistakes.ipynb",
      "provenance": [],
      "authorship_tag": "ABX9TyPfNawZU5GEA+lF2qRNSYYo",
      "include_colab_link": true
    },
    "kernelspec": {
      "name": "python3",
      "display_name": "Python 3"
    },
    "language_info": {
      "name": "python"
    }
  },
  "cells": [
    {
      "cell_type": "markdown",
      "metadata": {
        "id": "view-in-github",
        "colab_type": "text"
      },
      "source": [
        "<a href=\"https://colab.research.google.com/github/soph968/deep-learning-coursera/blob/master/Arrays_in_Numpy_common_mistakes.ipynb\" target=\"_parent\"><img src=\"https://colab.research.google.com/assets/colab-badge.svg\" alt=\"Open In Colab\"/></a>"
      ]
    },
    {
      "cell_type": "code",
      "metadata": {
        "id": "XhSHmq8dQyyG"
      },
      "source": [
        "import numpy as np"
      ],
      "execution_count": 1,
      "outputs": []
    },
    {
      "cell_type": "code",
      "metadata": {
        "id": "2icj5yA_Q42b"
      },
      "source": [
        "a = np.random.randn(5)"
      ],
      "execution_count": 2,
      "outputs": []
    },
    {
      "cell_type": "code",
      "metadata": {
        "colab": {
          "base_uri": "https://localhost:8080/"
        },
        "id": "PyWqX3h0Q-eP",
        "outputId": "bfcf270b-0977-4e8b-e5e9-e1e6e8323d3f"
      },
      "source": [
        "print(a)"
      ],
      "execution_count": 4,
      "outputs": [
        {
          "output_type": "stream",
          "text": [
            "[-1.41100797  0.72132491 -0.72771963  0.62131623 -1.03437188]\n"
          ],
          "name": "stdout"
        }
      ]
    },
    {
      "cell_type": "code",
      "metadata": {
        "colab": {
          "base_uri": "https://localhost:8080/"
        },
        "id": "mNmi84q6Q_pK",
        "outputId": "d41365d2-1f68-4f3e-e04b-af6af21aa896"
      },
      "source": [
        "print(a.shape)"
      ],
      "execution_count": 5,
      "outputs": [
        {
          "output_type": "stream",
          "text": [
            "(5,)\n"
          ],
          "name": "stdout"
        }
      ]
    },
    {
      "cell_type": "code",
      "metadata": {
        "colab": {
          "base_uri": "https://localhost:8080/"
        },
        "id": "m-j2MFgRRCMS",
        "outputId": "fd8373f8-2865-4ceb-8977-27299a2fd753"
      },
      "source": [
        "print(a.T)"
      ],
      "execution_count": 6,
      "outputs": [
        {
          "output_type": "stream",
          "text": [
            "[-1.41100797  0.72132491 -0.72771963  0.62131623 -1.03437188]\n"
          ],
          "name": "stdout"
        }
      ]
    },
    {
      "cell_type": "code",
      "metadata": {
        "colab": {
          "base_uri": "https://localhost:8080/"
        },
        "id": "UQcUwCLkRGOo",
        "outputId": "15c81450-db18-486c-ff4c-3dfc09ca7b67"
      },
      "source": [
        "print(np.dot(a, a.T))"
      ],
      "execution_count": 7,
      "outputs": [
        {
          "output_type": "stream",
          "text": [
            "4.496788040188759\n"
          ],
          "name": "stdout"
        }
      ]
    },
    {
      "cell_type": "code",
      "metadata": {
        "id": "092V3AwNRMnf"
      },
      "source": [
        "a = np.random.randn(5,1)"
      ],
      "execution_count": 8,
      "outputs": []
    },
    {
      "cell_type": "code",
      "metadata": {
        "colab": {
          "base_uri": "https://localhost:8080/"
        },
        "id": "eWHGzZu5RRSt",
        "outputId": "f3c52257-16cb-471d-9f10-1a9bf45d1eec"
      },
      "source": [
        "print(a)"
      ],
      "execution_count": 9,
      "outputs": [
        {
          "output_type": "stream",
          "text": [
            "[[-0.85741189]\n",
            " [ 1.26407303]\n",
            " [ 1.12906099]\n",
            " [ 0.03208793]\n",
            " [ 0.18365948]]\n"
          ],
          "name": "stdout"
        }
      ]
    },
    {
      "cell_type": "code",
      "metadata": {
        "colab": {
          "base_uri": "https://localhost:8080/"
        },
        "id": "DhsgiHOmRSAy",
        "outputId": "a42f355c-7cf7-4c49-fd98-bd31fe82e45b"
      },
      "source": [
        "print(a.T)"
      ],
      "execution_count": 10,
      "outputs": [
        {
          "output_type": "stream",
          "text": [
            "[[-0.85741189  1.26407303  1.12906099  0.03208793  0.18365948]]\n"
          ],
          "name": "stdout"
        }
      ]
    },
    {
      "cell_type": "code",
      "metadata": {
        "colab": {
          "base_uri": "https://localhost:8080/"
        },
        "id": "ZYFYWxYSRUs7",
        "outputId": "c1099b67-70a4-481a-c6cb-6621e99985b0"
      },
      "source": [
        "print(np.dot(a, a.T))"
      ],
      "execution_count": 11,
      "outputs": [
        {
          "output_type": "stream",
          "text": [
            "[[ 7.35155146e-01 -1.08383124e+00 -9.68070317e-01 -2.75125733e-02\n",
            "  -1.57471825e-01]\n",
            " [-1.08383124e+00  1.59788063e+00  1.42721555e+00  4.05614879e-02\n",
            "   2.32159000e-01]\n",
            " [-9.68070317e-01  1.42721555e+00  1.27477872e+00  3.62292309e-02\n",
            "   2.07362759e-01]\n",
            " [-2.75125733e-02  4.05614879e-02  3.62292309e-02  1.02963530e-03\n",
            "   5.89325279e-03]\n",
            " [-1.57471825e-01  2.32159000e-01  2.07362759e-01  5.89325279e-03\n",
            "   3.37308059e-02]]\n"
          ],
          "name": "stdout"
        }
      ]
    },
    {
      "cell_type": "code",
      "metadata": {
        "colab": {
          "base_uri": "https://localhost:8080/"
        },
        "id": "JueWzQghRZK-",
        "outputId": "a80c3051-6013-4064-fddd-8cf838ef30a0"
      },
      "source": [
        "a = np.random.randn(2,3)\n",
        "print(a)"
      ],
      "execution_count": 13,
      "outputs": [
        {
          "output_type": "stream",
          "text": [
            "[[-3.20564554 -0.15152375 -1.20376887]\n",
            " [ 0.36082515  0.7519627   0.74941292]]\n"
          ],
          "name": "stdout"
        }
      ]
    },
    {
      "cell_type": "code",
      "metadata": {
        "colab": {
          "base_uri": "https://localhost:8080/"
        },
        "id": "GJe7Ur3-TGCE",
        "outputId": "1a733ee6-0ce7-41f0-80a1-c9a8378a195e"
      },
      "source": [
        "b = np.random.randn(2, 1)\n",
        "print(b)"
      ],
      "execution_count": 15,
      "outputs": [
        {
          "output_type": "stream",
          "text": [
            "[[ 0.56036061]\n",
            " [-0.47095772]]\n"
          ],
          "name": "stdout"
        }
      ]
    },
    {
      "cell_type": "code",
      "metadata": {
        "id": "_IRDwUncTOdN"
      },
      "source": [
        "c = a + b"
      ],
      "execution_count": 16,
      "outputs": []
    },
    {
      "cell_type": "code",
      "metadata": {
        "colab": {
          "base_uri": "https://localhost:8080/"
        },
        "id": "ZvMEyv9YTUHK",
        "outputId": "38a7715b-541d-425d-f91a-97aa1ce28987"
      },
      "source": [
        "print(c.shape)"
      ],
      "execution_count": 17,
      "outputs": [
        {
          "output_type": "stream",
          "text": [
            "(2, 3)\n"
          ],
          "name": "stdout"
        }
      ]
    },
    {
      "cell_type": "code",
      "metadata": {
        "colab": {
          "base_uri": "https://localhost:8080/"
        },
        "id": "Xw5pXWdXTYN_",
        "outputId": "8d938fa8-52ca-4d5d-804c-132da0398147"
      },
      "source": [
        "a = np.random.randn(4,3)\n",
        "print(a)\n",
        "b = np.random.randn(3, 2)\n",
        "print(b)"
      ],
      "execution_count": 18,
      "outputs": [
        {
          "output_type": "stream",
          "text": [
            "[[ 0.55536792  1.11954679 -0.68873557]\n",
            " [ 0.5348175   1.11888811  0.08580075]\n",
            " [ 0.39189199  0.69472079  0.79962656]\n",
            " [ 0.67618397  0.13755211  0.62632435]]\n",
            "[[ 1.20479594 -0.9602512 ]\n",
            " [ 0.15166128 -0.71791892]\n",
            " [ 0.08345991 -0.37988094]]\n"
          ],
          "name": "stdout"
        }
      ]
    },
    {
      "cell_type": "code",
      "metadata": {
        "colab": {
          "base_uri": "https://localhost:8080/",
          "height": 215
        },
        "id": "dG5GqQZeTjDq",
        "outputId": "6f08523a-d68a-443e-bb35-ae0f79cf51cb"
      },
      "source": [
        "c = a * b"
      ],
      "execution_count": 19,
      "outputs": [
        {
          "output_type": "error",
          "ename": "ValueError",
          "evalue": "ignored",
          "traceback": [
            "\u001b[0;31m---------------------------------------------------------------------------\u001b[0m",
            "\u001b[0;31mValueError\u001b[0m                                Traceback (most recent call last)",
            "\u001b[0;32m<ipython-input-19-f561cc4d60c1>\u001b[0m in \u001b[0;36m<module>\u001b[0;34m()\u001b[0m\n\u001b[0;32m----> 1\u001b[0;31m \u001b[0mc\u001b[0m \u001b[0;34m=\u001b[0m \u001b[0ma\u001b[0m \u001b[0;34m*\u001b[0m \u001b[0mb\u001b[0m\u001b[0;34m\u001b[0m\u001b[0;34m\u001b[0m\u001b[0m\n\u001b[0m",
            "\u001b[0;31mValueError\u001b[0m: operands could not be broadcast together with shapes (4,3) (3,2) "
          ]
        }
      ]
    },
    {
      "cell_type": "code",
      "metadata": {
        "id": "UrDE3pJZTpJD"
      },
      "source": [
        "a = np.random.randn(12288, 150) # a.shape = (12288, 150)\n",
        "b = np.random.randn(150, 45) # b.shape = (150, 45)\n",
        "c = np.dot(a,b) "
      ],
      "execution_count": 22,
      "outputs": []
    },
    {
      "cell_type": "code",
      "metadata": {
        "colab": {
          "base_uri": "https://localhost:8080/"
        },
        "id": "TDeqaM1CT9xC",
        "outputId": "e0876dc9-58ff-4fc1-8a32-67be9a689f43"
      },
      "source": [
        "print(c.shape)"
      ],
      "execution_count": 23,
      "outputs": [
        {
          "output_type": "stream",
          "text": [
            "(12288, 45)\n"
          ],
          "name": "stdout"
        }
      ]
    },
    {
      "cell_type": "code",
      "metadata": {
        "id": "V6s8C7UyUHQq"
      },
      "source": [
        " a = np.random.randn(3, 3)\n",
        " b = np.random.randn(3, 1)\n",
        " c = a*b "
      ],
      "execution_count": 24,
      "outputs": []
    },
    {
      "cell_type": "code",
      "metadata": {
        "colab": {
          "base_uri": "https://localhost:8080/"
        },
        "id": "o9c0CTTJUokp",
        "outputId": "06739401-57c2-46c8-a1d3-286589550a71"
      },
      "source": [
        "c"
      ],
      "execution_count": 25,
      "outputs": [
        {
          "output_type": "execute_result",
          "data": {
            "text/plain": [
              "array([[ 0.21643727,  0.40827661,  0.47447008],\n",
              "       [ 0.14918272, -0.02212835, -0.31900937],\n",
              "       [-0.33716055, -0.32037814, -0.06638643]])"
            ]
          },
          "metadata": {
            "tags": []
          },
          "execution_count": 25
        }
      ]
    },
    {
      "cell_type": "code",
      "metadata": {
        "id": "nl5hH70UUpha"
      },
      "source": [
        ""
      ],
      "execution_count": null,
      "outputs": []
    }
  ]
}